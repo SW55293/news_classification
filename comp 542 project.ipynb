{
 "cells": [
  {
   "cell_type": "code",
   "execution_count": 4,
   "metadata": {},
   "outputs": [],
   "source": [
    "import os\n",
    "datapath = os.path.join(\"datasets\", \"lifesat\", \"\")"
   ]
  },
  {
   "cell_type": "code",
   "execution_count": 5,
   "metadata": {},
   "outputs": [],
   "source": [
    "import pandas as pd\n",
    "df = pd.read_csv(datapath + \"uci-news-aggregator.csv\", thousands = \",\") "
   ]
  },
  {
   "cell_type": "code",
   "execution_count": 6,
   "metadata": {},
   "outputs": [
    {
     "name": "stdout",
     "output_type": "stream",
     "text": [
      "            ID                                              TITLE  \\\n",
      "0            1  Fed official says weak data caused by weather,...   \n",
      "1            2  Fed's Charles Plosser sees high bar for change...   \n",
      "2            3  US open: Stocks fall after Fed official hints ...   \n",
      "3            4  Fed risks falling 'behind the curve', Charles ...   \n",
      "4            5  Fed's Plosser: Nasty Weather Has Curbed Job Gr...   \n",
      "5            6  Plosser: Fed May Have to Accelerate Tapering Pace   \n",
      "6            7          Fed's Plosser: Taper pace may be too slow   \n",
      "7            8  Fed's Plosser expects US unemployment to fall ...   \n",
      "8            9  US jobs growth last month hit by weather:Fed P...   \n",
      "9           10  ECB unlikely to end sterilisation of SMP purch...   \n",
      "10          11  ECB unlikely to end sterilization of SMP purch...   \n",
      "11          12              EU's half-baked bank union could work   \n",
      "12          13       Europe reaches crunch point on banking union   \n",
      "13          14  ECB FOCUS-Stronger euro drowns out ECB's messa...   \n",
      "14          15         EU aims for deal on tackling failing banks   \n",
      "15          16  Forex - Pound drops to one-month lows against ...   \n",
      "16          17  Noyer Says Strong Euro Creates Unwarranted Eco...   \n",
      "17          18  EU Week Ahead March 10-14: Bank Resolution, Tr...   \n",
      "18          19  ECB member Noyer is 'very open to all kinds of...   \n",
      "19          20  Euro Anxieties Wane as Bunds Top Treasuries, S...   \n",
      "20          21  Noyer Says Strong Euro Creates Unwarranted Eco...   \n",
      "21          22  Noyer Says Stronger Euro Creates Unwarranted P...   \n",
      "22          23  Bad loan triggers key feature in ECB bank test...   \n",
      "23          24  China's trade deficit and structural worries i...   \n",
      "24          25            10 Things You Need To Know This Morning   \n",
      "25          26  ECB's Noyer not Happy With Euro Strength -- Up...   \n",
      "26          27   Eurozone banks' sovereign exposure hits new high   \n",
      "27          28  ECB to reveal bad loan hurdles for euro zone b...   \n",
      "28          29  Forex Market: EUR/USD retreats from 2-1/2-year...   \n",
      "29          30  REFILE-Bad loan triggers key feature in ECB ba...   \n",
      "...        ...                                                ...   \n",
      "422389  422908  CDC director says Liberia Ebola outbreak to ge...   \n",
      "422390  422909  France Asks Citizens to Avoid Liberia, Sierra ...   \n",
      "422391  422910  Ebola-infected doctor in Sierra Leone, Sahr Ro...   \n",
      "422392  422911  Ebola zone nations isolated as airlines stop f...   \n",
      "422393  422912  28/08/2014Ebola response 'dangerously inadequa...   \n",
      "422394  422913  Glaxo's Ebola vaccine may begin safety tests i...   \n",
      "422395  422914  Ebola causing huge damage to West African econ...   \n",
      "422396  422915  Ebola outbreak: 'It's even worse than I'd feared'   \n",
      "422397  422916   CDC: Ebola outbreak 'even worse than I'd feared'   \n",
      "422398  422917  Ebola Virus Disease in the Democratic Republic...   \n",
      "422399  422918  CDC Chief Warns Liberia Ebola Crisis 'Will Get...   \n",
      "422400  422919  UPDATE 3-Ebola causing huge damage to W.Africa...   \n",
      "422401  422920  WHO removes staff from Sierra Leone Ebola cent...   \n",
      "422402  422921  Ebola causing huge damage to W Africa economie...   \n",
      "422403  422922  Democratic Republic of Congo reports Ebola out...   \n",
      "422404  422923               British Ebola sufferer gets new drug   \n",
      "422405  422924  AFDB Boss Says Ebola Infected Countries May Lo...   \n",
      "422406  422925  Cincinnati Children's to rebuild boy's throat ...   \n",
      "422407  422926  Cincinnati doctors use child's rib to rebuild ...   \n",
      "422408  422927  Cincinnati Children's surgeons rebuild throat ...   \n",
      "422409  422928  Surgeons remove 4-year-old's rib to rebuild da...   \n",
      "422410  422929       Surgery update for boy who swallowed battery   \n",
      "422411  422930       Boy who swallowed battery headed for surgery   \n",
      "422412  422931  Ohio Boy's Throat Rebuilt After Being Burned B...   \n",
      "422413  422932  Cincinnati Children's surgeons to rebuild thro...   \n",
      "422414  422933  Surgeons to remove 4-year-old's rib to rebuild...   \n",
      "422415  422934  Boy to have surgery on esophagus after battery...   \n",
      "422416  422935  Child who swallowed battery to have reconstruc...   \n",
      "422417  422936  Phoenix boy undergoes surgery to repair throat...   \n",
      "422418  422937  Phoenix boy undergoes surgery to repair throat...   \n",
      "\n",
      "                                                      URL  \\\n",
      "0       http://www.latimes.com/business/money/la-fi-mo...   \n",
      "1       http://www.livemint.com/Politics/H2EvwJSK2VE6O...   \n",
      "2       http://www.ifamagazine.com/news/us-open-stocks...   \n",
      "3       http://www.ifamagazine.com/news/fed-risks-fall...   \n",
      "4       http://www.moneynews.com/Economy/federal-reser...   \n",
      "5       http://www.nasdaq.com/article/plosser-fed-may-...   \n",
      "6       http://www.marketwatch.com/story/feds-plosser-...   \n",
      "7       http://www.fxstreet.com/news/forex-news/articl...   \n",
      "8       http://economictimes.indiatimes.com/news/inter...   \n",
      "9       http://www.iii.co.uk/news-opinion/reuters/news...   \n",
      "10      http://in.reuters.com/article/2014/03/10/us-ec...   \n",
      "11      http://blogs.reuters.com/hugo-dixon/2014/03/10...   \n",
      "12      http://in.reuters.com/article/2014/03/10/eu-ba...   \n",
      "13      http://in.reuters.com/article/2014/03/10/ecb-p...   \n",
      "14                  http://main.omanobserver.om/\\?p=63376   \n",
      "15      http://www.nasdaq.com/article/forex-pound-drop...   \n",
      "16      http://www.sfgate.com/business/bloomberg/artic...   \n",
      "17      http://blogs.wsj.com/brussels/2014/03/10/eu-we...   \n",
      "18      http://www.ifamagazine.com/news/ecb-member-noy...   \n",
      "19      http://www.businessweek.com/news/2014-03-10/ge...   \n",
      "20      http://www.businessweek.com/news/2014-03-10/no...   \n",
      "21      http://www.sfgate.com/business/bloomberg/artic...   \n",
      "22      http://www.globalpost.com/dispatch/news/thomso...   \n",
      "23      http://www.fxstreet.com/analysis/strategic-cur...   \n",
      "24      http://www.businessinsider.com/opening-bell-mo...   \n",
      "25      http://online.wsj.com/article/BT-CO-20140310-7...   \n",
      "26      http://www.ekathimerini.com/4dcgi/_w_articles_...   \n",
      "27      http://www.irishtimes.com/business/sectors/fin...   \n",
      "28      http://www.binarytribune.com/2014/03/10/forex-...   \n",
      "29      http://in.reuters.com/article/2014/03/10/euroz...   \n",
      "...                                                   ...   \n",
      "422389  http://www.dw.de/cdc-director-says-liberia-ebo...   \n",
      "422390  http://english.chosun.com/site/data/html_dir/2...   \n",
      "422391  http://www.cbc.ca/news/health/ebola-infected-d...   \n",
      "422392  http://www.brecorder.com/general-news/172/1218...   \n",
      "422393  http://www.expatica.com/be/news/belgian-news/e...   \n",
      "422394  http://www.panews.com/cnhi_network/article_e92...   \n",
      "422395  http://www.moneyweb.co.za/moneyweb-internation...   \n",
      "422396  http://q13fox.com/2014/08/27/ebola-outbreak-it...   \n",
      "422397  http://kfor.com/2014/08/27/cdc-ebola-outbreak-...   \n",
      "422398  http://www.infectioncontroltoday.com/news/2014...   \n",
      "422399  http://www.newsmax.com/Newsfront/Health-Ebola-...   \n",
      "422400  http://af.reuters.com/article/guineaNews/idAFL...   \n",
      "422401  http://www.bignewsnetwork.com/index.php/sid/22...   \n",
      "422402  http://economictimes.indiatimes.com/news/inter...   \n",
      "422403  http://news.xinhuanet.com/english/health/2014-...   \n",
      "422404  http://www.echo.net.au/2014/08/british-ebola-s...   \n",
      "422405  http://leadership.ng/business/382219/afdb-boss...   \n",
      "422406  http://www.bizjournals.com/cincinnati/news/201...   \n",
      "422407  http://www.jrn.com/kgun9/now-trending/Cincinna...   \n",
      "422408  http://www.kptv.com/story/26378648/surgeons-re...   \n",
      "422409  http://www.wnem.com/story/26378648/surgeons-re...   \n",
      "422410  http://www.local12.com/news/features/top-stori...   \n",
      "422411  http://www.kgns.tv/health/headlines/Boy-who-sw...   \n",
      "422412  http://www.keyetv.com/news/features/top-storie...   \n",
      "422413  http://www.wsmv.com/story/26378648/surgeons-re...   \n",
      "422414  http://www.cbs3springfield.com/story/26378648/...   \n",
      "422415  http://www.wlwt.com/news/boy-to-have-surgery-o...   \n",
      "422416  http://www.newsnet5.com/news/local-news/child-...   \n",
      "422417  http://www.wfsb.com/story/26368078/phoenix-boy...   \n",
      "422418  http://www.cbs3springfield.com/story/26368078/...   \n",
      "\n",
      "                           PUBLISHER CATEGORY                          STORY  \\\n",
      "0                  Los Angeles Times        b  ddUyU0VZz0BRneMioxUPQVP6sIxvM   \n",
      "1                           Livemint        b  ddUyU0VZz0BRneMioxUPQVP6sIxvM   \n",
      "2                       IFA Magazine        b  ddUyU0VZz0BRneMioxUPQVP6sIxvM   \n",
      "3                       IFA Magazine        b  ddUyU0VZz0BRneMioxUPQVP6sIxvM   \n",
      "4                          Moneynews        b  ddUyU0VZz0BRneMioxUPQVP6sIxvM   \n",
      "5                             NASDAQ        b  ddUyU0VZz0BRneMioxUPQVP6sIxvM   \n",
      "6                        MarketWatch        b  ddUyU0VZz0BRneMioxUPQVP6sIxvM   \n",
      "7                       FXstreet.com        b  ddUyU0VZz0BRneMioxUPQVP6sIxvM   \n",
      "8                     Economic Times        b  ddUyU0VZz0BRneMioxUPQVP6sIxvM   \n",
      "9               Interactive Investor        b  dPhGU51DcrolUIMxbRm0InaHGA2XM   \n",
      "10                     Reuters India        b  dPhGU51DcrolUIMxbRm0InaHGA2XM   \n",
      "11               Reuters UK \\(blog\\)        b  dPhGU51DcrolUIMxbRm0InaHGA2XM   \n",
      "12                           Reuters        b  dPhGU51DcrolUIMxbRm0InaHGA2XM   \n",
      "13                           Reuters        b  dPhGU51DcrolUIMxbRm0InaHGA2XM   \n",
      "14               Oman Daily Observer        b  dPhGU51DcrolUIMxbRm0InaHGA2XM   \n",
      "15                            NASDAQ        b  dPhGU51DcrolUIMxbRm0InaHGA2XM   \n",
      "16           San Francisco Chronicle        b  dPhGU51DcrolUIMxbRm0InaHGA2XM   \n",
      "17      Wall Street Journal \\(blog\\)        b  dPhGU51DcrolUIMxbRm0InaHGA2XM   \n",
      "18                      IFA Magazine        b  dPhGU51DcrolUIMxbRm0InaHGA2XM   \n",
      "19                      Businessweek        b  dPhGU51DcrolUIMxbRm0InaHGA2XM   \n",
      "20                      Businessweek        b  dPhGU51DcrolUIMxbRm0InaHGA2XM   \n",
      "21           San Francisco Chronicle        b  dPhGU51DcrolUIMxbRm0InaHGA2XM   \n",
      "22                        GlobalPost        b  dPhGU51DcrolUIMxbRm0InaHGA2XM   \n",
      "23                      FXstreet.com        b  dPhGU51DcrolUIMxbRm0InaHGA2XM   \n",
      "24                  Business Insider        b  dPhGU51DcrolUIMxbRm0InaHGA2XM   \n",
      "25               Wall Street Journal        b  dPhGU51DcrolUIMxbRm0InaHGA2XM   \n",
      "26                       Kathimerini        b  dPhGU51DcrolUIMxbRm0InaHGA2XM   \n",
      "27                       Irish Times        b  dPhGU51DcrolUIMxbRm0InaHGA2XM   \n",
      "28                    Binary Tribune        b  dPhGU51DcrolUIMxbRm0InaHGA2XM   \n",
      "29                           Reuters        b  dPhGU51DcrolUIMxbRm0InaHGA2XM   \n",
      "...                              ...      ...                            ...   \n",
      "422389                Deutsche Welle        m  dhhnSHVoyA7ENBM3boDX_D_-3PV6M   \n",
      "422390               The Chosun Ilbo        m  dhhnSHVoyA7ENBM3boDX_D_-3PV6M   \n",
      "422391                        CBC.ca        m  dhhnSHVoyA7ENBM3boDX_D_-3PV6M   \n",
      "422392             Business Recorder        m  dhhnSHVoyA7ENBM3boDX_D_-3PV6M   \n",
      "422393              Expatica Belguim        m  dhhnSHVoyA7ENBM3boDX_D_-3PV6M   \n",
      "422394          The Port Arthur News        m  dhhnSHVoyA7ENBM3boDX_D_-3PV6M   \n",
      "422395                Moneyweb.co.za        m  dhhnSHVoyA7ENBM3boDX_D_-3PV6M   \n",
      "422396                       Q13 FOX        m  dhhnSHVoyA7ENBM3boDX_D_-3PV6M   \n",
      "422397                      kfor.com        m  dhhnSHVoyA7ENBM3boDX_D_-3PV6M   \n",
      "422398       Infection Control Today        m  dhhnSHVoyA7ENBM3boDX_D_-3PV6M   \n",
      "422399                   Newsmax.com        m  dhhnSHVoyA7ENBM3boDX_D_-3PV6M   \n",
      "422400                Reuters Africa        m  dhhnSHVoyA7ENBM3boDX_D_-3PV6M   \n",
      "422401          Big News Network.com        m  dhhnSHVoyA7ENBM3boDX_D_-3PV6M   \n",
      "422402                Economic Times        m  dhhnSHVoyA7ENBM3boDX_D_-3PV6M   \n",
      "422403                        Xinhua        m  dhhnSHVoyA7ENBM3boDX_D_-3PV6M   \n",
      "422404                  Echonetdaily        m  dhhnSHVoyA7ENBM3boDX_D_-3PV6M   \n",
      "422405         Leadership Newspapers        m  dhhnSHVoyA7ENBM3boDX_D_-3PV6M   \n",
      "422406   Cincinnati Business Courier        m  dpcLMoJD69UYMXMxaoEFnWql9YjQM   \n",
      "422407                        KGUN 9        m  dpcLMoJD69UYMXMxaoEFnWql9YjQM   \n",
      "422408                      KPTV.com        m  dpcLMoJD69UYMXMxaoEFnWql9YjQM   \n",
      "422409                  WNEM Saginaw        m  dpcLMoJD69UYMXMxaoEFnWql9YjQM   \n",
      "422410            WKRC TV Cincinnati        m  dpcLMoJD69UYMXMxaoEFnWql9YjQM   \n",
      "422411                       KGNS.tv        m  dpcLMoJD69UYMXMxaoEFnWql9YjQM   \n",
      "422412                       KEYE TV        m  dpcLMoJD69UYMXMxaoEFnWql9YjQM   \n",
      "422413                WSMV Nashville        m  dpcLMoJD69UYMXMxaoEFnWql9YjQM   \n",
      "422414                       WSHM-TV        m  dpcLMoJD69UYMXMxaoEFnWql9YjQM   \n",
      "422415               WLWT Cincinnati        m  dpcLMoJD69UYMXMxaoEFnWql9YjQM   \n",
      "422416                  NewsNet5.com        m  dpcLMoJD69UYMXMxaoEFnWql9YjQM   \n",
      "422417                          WFSB        m  dpcLMoJD69UYMXMxaoEFnWql9YjQM   \n",
      "422418                       WSHM-TV        m  dpcLMoJD69UYMXMxaoEFnWql9YjQM   \n",
      "\n",
      "                             HOSTNAME      TIMESTAMP  \n",
      "0                     www.latimes.com  1394470370698  \n",
      "1                    www.livemint.com  1394470371207  \n",
      "2                 www.ifamagazine.com  1394470371550  \n",
      "3                 www.ifamagazine.com  1394470371793  \n",
      "4                   www.moneynews.com  1394470372027  \n",
      "5                      www.nasdaq.com  1394470372212  \n",
      "6                 www.marketwatch.com  1394470372405  \n",
      "7                    www.fxstreet.com  1394470372615  \n",
      "8        economictimes.indiatimes.com  1394470372792  \n",
      "9                       www.iii.co.uk  1394470501265  \n",
      "10                     in.reuters.com  1394470501410  \n",
      "11                  blogs.reuters.com  1394470501587  \n",
      "12                     in.reuters.com  1394470501755  \n",
      "13                     in.reuters.com  1394470501948  \n",
      "14               main.omanobserver.om  1394470502141  \n",
      "15                     www.nasdaq.com  1394470502316  \n",
      "16                     www.sfgate.com  1394470502543  \n",
      "17                      blogs.wsj.com  1394470502744  \n",
      "18                www.ifamagazine.com  1394470502946  \n",
      "19               www.businessweek.com  1394470503148  \n",
      "20               www.businessweek.com  1394470503366  \n",
      "21                     www.sfgate.com  1394470503543  \n",
      "22                 www.globalpost.com  1394470503726  \n",
      "23                   www.fxstreet.com  1394470503887  \n",
      "24            www.businessinsider.com  1394470504080  \n",
      "25                     online.wsj.com  1394470504274  \n",
      "26               www.ekathimerini.com  1394470504506  \n",
      "27                 www.irishtimes.com  1394470504683  \n",
      "28              www.binarytribune.com  1394470504893  \n",
      "29                     in.reuters.com  1394470505070  \n",
      "...                               ...            ...  \n",
      "422389                      www.dw.de  1409228452081  \n",
      "422390             english.chosun.com  1409228452319  \n",
      "422391                     www.cbc.ca  1409228452728  \n",
      "422392              www.brecorder.com  1409228453085  \n",
      "422393               www.expatica.com  1409228453432  \n",
      "422394                 www.panews.com  1409228453652  \n",
      "422395             www.moneyweb.co.za  1409228453918  \n",
      "422396                     q13fox.com  1409228454366  \n",
      "422397                       kfor.com  1409228454637  \n",
      "422398  www.infectioncontroltoday.com  1409228454932  \n",
      "422399                www.newsmax.com  1409228455249  \n",
      "422400                 af.reuters.com  1409228455497  \n",
      "422401         www.bignewsnetwork.com  1409228455693  \n",
      "422402   economictimes.indiatimes.com  1409228455934  \n",
      "422403             news.xinhuanet.com  1409228456566  \n",
      "422404                www.echo.net.au  1409228456773  \n",
      "422405                  leadership.ng  1409228457129  \n",
      "422406            www.bizjournals.com  1409229187092  \n",
      "422407                    www.jrn.com  1409229187393  \n",
      "422408                   www.kptv.com  1409229187741  \n",
      "422409                   www.wnem.com  1409229188173  \n",
      "422410                www.local12.com  1409229188577  \n",
      "422411                    www.kgns.tv  1409229188921  \n",
      "422412                 www.keyetv.com  1409229189229  \n",
      "422413                   www.wsmv.com  1409229189743  \n",
      "422414        www.cbs3springfield.com  1409229190251  \n",
      "422415                   www.wlwt.com  1409229190508  \n",
      "422416               www.newsnet5.com  1409229190771  \n",
      "422417                   www.wfsb.com  1409229191071  \n",
      "422418        www.cbs3springfield.com  1409229191565  \n",
      "\n",
      "[422419 rows x 8 columns]\n"
     ]
    }
   ],
   "source": [
    "print(df)"
   ]
  },
  {
   "cell_type": "code",
   "execution_count": 7,
   "metadata": {
    "scrolled": true
   },
   "outputs": [
    {
     "name": "stdout",
     "output_type": "stream",
     "text": [
      "<class 'pandas.core.frame.DataFrame'>\n",
      "RangeIndex: 422419 entries, 0 to 422418\n",
      "Data columns (total 8 columns):\n",
      "ID           422419 non-null int64\n",
      "TITLE        422419 non-null object\n",
      "URL          422419 non-null object\n",
      "PUBLISHER    422417 non-null object\n",
      "CATEGORY     422419 non-null object\n",
      "STORY        422419 non-null object\n",
      "HOSTNAME     422419 non-null object\n",
      "TIMESTAMP    422419 non-null int64\n",
      "dtypes: int64(2), object(6)\n",
      "memory usage: 25.8+ MB\n",
      "None\n"
     ]
    }
   ],
   "source": [
    "import pandas as pd\n",
    "df = pd.read_csv(datapath + \"uci-news-aggregator.csv\", thousands = \",\") \n",
    "print(df.info())"
   ]
  },
  {
   "cell_type": "code",
   "execution_count": 8,
   "metadata": {},
   "outputs": [],
   "source": [
    "# To support both python 2 and python 3 \n",
    "#from _future_ import division, print_function, unicode_literals \n",
    "from __future__ import division, print_function, unicode_literals\n",
    "\n",
    "# Common imports \n",
    "import numpy as np \n",
    "import os \n",
    "\n",
    "# to make this notebook's output stable across runs \n",
    "np.random.seed(42) \n",
    "\n",
    "# To plot pretty figures \n",
    "%matplotlib inline \n",
    "import matplotlib as mpl\n",
    "import matplotlib.pyplot as plt \n",
    "mpl.rc('axes', labelsize=14) \n",
    "mpl.rc('xtick', labelsize=12) \n",
    "mpl.rc('ytick', labelsize=12) \n",
    "\n",
    "# Where to save the figures \n",
    "PROJECT_ROOT_DIR = \".\"\n",
    "CHAPTER_ID = \"end_to_end_project\"\n",
    "IMAGES_PATH = os. path.join(PROJECT_ROOT_DIR, \"images\", CHAPTER_ID) \n",
    "\n",
    "def save_fig(fig_id, tight_layout=True, fig_extension=\"png\", resolution=300): \n",
    "    path = os. path.join(IMAGES_PATH, fig_id + \",\" + fig_extension) \n",
    "    print(\"Saving figure\", fig_id)\n",
    "    if tight_layout: \n",
    "        plt.tight_layout() \n",
    "    plt.savefig(path, format=fig_extension, dpi=resolution) \n",
    "\n",
    "# Ignore useless warnings (see Scipy issue #5998) \n",
    "import warnings \n",
    "warnings.filterwarnings (action=\"ignore\", message=\"^internal gelsd\") "
   ]
  },
  {
   "cell_type": "code",
   "execution_count": 9,
   "metadata": {},
   "outputs": [
    {
     "name": "stdout",
     "output_type": "stream",
     "text": [
      "                  ID     TIMESTAMP\n",
      "count  422419.000000  4.224190e+05\n",
      "mean   211536.764594  1.400445e+12\n",
      "std    122102.839707  3.733088e+09\n",
      "min         1.000000  1.394470e+12\n",
      "25%    105801.500000  1.397349e+12\n",
      "50%    211655.000000  1.399990e+12\n",
      "75%    317273.500000  1.403775e+12\n",
      "max    422937.000000  1.409229e+12\n"
     ]
    }
   ],
   "source": [
    "print(df.describe())"
   ]
  },
  {
   "cell_type": "code",
   "execution_count": 10,
   "metadata": {},
   "outputs": [
    {
     "name": "stdout",
     "output_type": "stream",
     "text": [
      "   ID                                              TITLE  \\\n",
      "0   1  Fed official says weak data caused by weather,...   \n",
      "1   2  Fed's Charles Plosser sees high bar for change...   \n",
      "2   3  US open: Stocks fall after Fed official hints ...   \n",
      "3   4  Fed risks falling 'behind the curve', Charles ...   \n",
      "4   5  Fed's Plosser: Nasty Weather Has Curbed Job Gr...   \n",
      "\n",
      "                                                 URL          PUBLISHER  \\\n",
      "0  http://www.latimes.com/business/money/la-fi-mo...  Los Angeles Times   \n",
      "1  http://www.livemint.com/Politics/H2EvwJSK2VE6O...           Livemint   \n",
      "2  http://www.ifamagazine.com/news/us-open-stocks...       IFA Magazine   \n",
      "3  http://www.ifamagazine.com/news/fed-risks-fall...       IFA Magazine   \n",
      "4  http://www.moneynews.com/Economy/federal-reser...          Moneynews   \n",
      "\n",
      "  CATEGORY                          STORY             HOSTNAME      TIMESTAMP  \n",
      "0        b  ddUyU0VZz0BRneMioxUPQVP6sIxvM      www.latimes.com  1394470370698  \n",
      "1        b  ddUyU0VZz0BRneMioxUPQVP6sIxvM     www.livemint.com  1394470371207  \n",
      "2        b  ddUyU0VZz0BRneMioxUPQVP6sIxvM  www.ifamagazine.com  1394470371550  \n",
      "3        b  ddUyU0VZz0BRneMioxUPQVP6sIxvM  www.ifamagazine.com  1394470371793  \n",
      "4        b  ddUyU0VZz0BRneMioxUPQVP6sIxvM    www.moneynews.com  1394470372027  \n"
     ]
    }
   ],
   "source": [
    "#shows first 5 lines on each category/column\n",
    "print(df.head())"
   ]
  },
  {
   "cell_type": "code",
   "execution_count": 11,
   "metadata": {
    "scrolled": true
   },
   "outputs": [
    {
     "data": {
      "image/png": "[encoded data removed]",
      "text/plain": [
       "<Figure size 1440x1080 with 2 Axes>"
      ]
     },
     "metadata": {
      "needs_background": "light"
     },
     "output_type": "display_data"
    }
   ],
   "source": [
    "%matplotlib inline \n",
    "import matplotlib.pyplot as plt \n",
    "df.hist(bins=50, figsize=(20,15))\n",
    "plt.show() "
   ]
  },
  {
   "cell_type": "code",
   "execution_count": 12,
   "metadata": {},
   "outputs": [],
   "source": [
    "# to make this notebook's output stable across runs \n",
    "np.random.seed(42)"
   ]
  },
  {
   "cell_type": "code",
   "execution_count": 13,
   "metadata": {},
   "outputs": [],
   "source": [
    "import numpy as np\n",
    "\n",
    "def split_train_test(data, test_ratio):\n",
    "    shuffled_indices = np.random.permutation(len(data)) \n",
    "    test_set_size = int(len(data) * test_ratio) \n",
    "    test_indices = shuffled_indices[:test_set_size] \n",
    "    train_indices = shuffled_indices[test_set_size:] \n",
    "    return data.iloc[train_indices], data.iloc[test_indices] "
   ]
  },
  {
   "cell_type": "code",
   "execution_count": 14,
   "metadata": {},
   "outputs": [
    {
     "name": "stdout",
     "output_type": "stream",
     "text": [
      "337936 train + 84483 test\n"
     ]
    }
   ],
   "source": [
    "train_set, test_set = split_train_test(df, 0.2) \n",
    "print(len(train_set), \"train +\", len(test_set), \"test\") "
   ]
  },
  {
   "cell_type": "code",
   "execution_count": 15,
   "metadata": {},
   "outputs": [],
   "source": [
    "from zlib import crc32 \n",
    "def test_set_check(identifier, test_ratio): \n",
    "    return crc32(np.int64(identifier)) & 0xffffffff < test_ratio * 2**32 \n",
    "\n",
    "def split_train_test_by_id(data, test_ratio, id_column): \n",
    "    ids = data[id_column] \n",
    "    in_test_set = ids.apply(lambda id : test_set_check(id , test_ratio)) \n",
    "    return data.loc[~in_test_set], data.loc[in_test_set] "
   ]
  },
  {
   "cell_type": "code",
   "execution_count": 16,
   "metadata": {},
   "outputs": [],
   "source": [
    "import hashlib \n",
    "\n",
    "def test_set_check(identifier, test_ratio, hash=hashlib.md5): \n",
    "    return hash(np.int64(identifier)).digest()[-1] < 256 * test_ratio "
   ]
  },
  {
   "cell_type": "code",
   "execution_count": 17,
   "metadata": {},
   "outputs": [],
   "source": [
    "def test_set_check(identifier, test_ratio, hash=hashlib.md5): \n",
    "    return bytearray(hash(np.int64(identifier)).digest())[-1] < 256 * test_ratio "
   ]
  },
  {
   "cell_type": "code",
   "execution_count": 18,
   "metadata": {},
   "outputs": [],
   "source": [
    "df_with_id = df.reset_index() # adds an 'index' column \n",
    "train_set, test_set = split_train_test_by_id(df_with_id, 0.2, \"index\")"
   ]
  },
  {
   "cell_type": "code",
   "execution_count": 19,
   "metadata": {},
   "outputs": [
    {
     "data": {
      "text/html": [
       "<div>\n",
       "<style scoped>\n",
       "    .dataframe tbody tr th:only-of-type {\n",
       "        vertical-align: middle;\n",
       "    }\n",
       "\n",
       "    .dataframe tbody tr th {\n",
       "        vertical-align: top;\n",
       "    }\n",
       "\n",
       "    .dataframe thead th {\n",
       "        text-align: right;\n",
       "    }\n",
       "</style>\n",
       "<table border=\"1\" class=\"dataframe\">\n",
       "  <thead>\n",
       "    <tr style=\"text-align: right;\">\n",
       "      <th></th>\n",
       "      <th>index</th>\n",
       "      <th>ID</th>\n",
       "      <th>TITLE</th>\n",
       "      <th>URL</th>\n",
       "      <th>PUBLISHER</th>\n",
       "      <th>CATEGORY</th>\n",
       "      <th>STORY</th>\n",
       "      <th>HOSTNAME</th>\n",
       "      <th>TIMESTAMP</th>\n",
       "    </tr>\n",
       "  </thead>\n",
       "  <tbody>\n",
       "    <tr>\n",
       "      <th>4</th>\n",
       "      <td>4</td>\n",
       "      <td>5</td>\n",
       "      <td>Fed's Plosser: Nasty Weather Has Curbed Job Gr...</td>\n",
       "      <td>http://www.moneynews.com/Economy/federal-reser...</td>\n",
       "      <td>Moneynews</td>\n",
       "      <td>b</td>\n",
       "      <td>ddUyU0VZz0BRneMioxUPQVP6sIxvM</td>\n",
       "      <td>www.moneynews.com</td>\n",
       "      <td>1394470372027</td>\n",
       "    </tr>\n",
       "    <tr>\n",
       "      <th>5</th>\n",
       "      <td>5</td>\n",
       "      <td>6</td>\n",
       "      <td>Plosser: Fed May Have to Accelerate Tapering Pace</td>\n",
       "      <td>http://www.nasdaq.com/article/plosser-fed-may-...</td>\n",
       "      <td>NASDAQ</td>\n",
       "      <td>b</td>\n",
       "      <td>ddUyU0VZz0BRneMioxUPQVP6sIxvM</td>\n",
       "      <td>www.nasdaq.com</td>\n",
       "      <td>1394470372212</td>\n",
       "    </tr>\n",
       "    <tr>\n",
       "      <th>11</th>\n",
       "      <td>11</td>\n",
       "      <td>12</td>\n",
       "      <td>EU's half-baked bank union could work</td>\n",
       "      <td>http://blogs.reuters.com/hugo-dixon/2014/03/10...</td>\n",
       "      <td>Reuters UK \\(blog\\)</td>\n",
       "      <td>b</td>\n",
       "      <td>dPhGU51DcrolUIMxbRm0InaHGA2XM</td>\n",
       "      <td>blogs.reuters.com</td>\n",
       "      <td>1394470501587</td>\n",
       "    </tr>\n",
       "    <tr>\n",
       "      <th>20</th>\n",
       "      <td>20</td>\n",
       "      <td>21</td>\n",
       "      <td>Noyer Says Strong Euro Creates Unwarranted Eco...</td>\n",
       "      <td>http://www.businessweek.com/news/2014-03-10/no...</td>\n",
       "      <td>Businessweek</td>\n",
       "      <td>b</td>\n",
       "      <td>dPhGU51DcrolUIMxbRm0InaHGA2XM</td>\n",
       "      <td>www.businessweek.com</td>\n",
       "      <td>1394470503366</td>\n",
       "    </tr>\n",
       "    <tr>\n",
       "      <th>23</th>\n",
       "      <td>23</td>\n",
       "      <td>24</td>\n",
       "      <td>China's trade deficit and structural worries i...</td>\n",
       "      <td>http://www.fxstreet.com/analysis/strategic-cur...</td>\n",
       "      <td>FXstreet.com</td>\n",
       "      <td>b</td>\n",
       "      <td>dPhGU51DcrolUIMxbRm0InaHGA2XM</td>\n",
       "      <td>www.fxstreet.com</td>\n",
       "      <td>1394470503887</td>\n",
       "    </tr>\n",
       "  </tbody>\n",
       "</table>\n",
       "</div>"
      ],
      "text/plain": [
       "    index  ID                                              TITLE  \\\n",
       "4       4   5  Fed's Plosser: Nasty Weather Has Curbed Job Gr...   \n",
       "5       5   6  Plosser: Fed May Have to Accelerate Tapering Pace   \n",
       "11     11  12              EU's half-baked bank union could work   \n",
       "20     20  21  Noyer Says Strong Euro Creates Unwarranted Eco...   \n",
       "23     23  24  China's trade deficit and structural worries i...   \n",
       "\n",
       "                                                  URL            PUBLISHER  \\\n",
       "4   http://www.moneynews.com/Economy/federal-reser...            Moneynews   \n",
       "5   http://www.nasdaq.com/article/plosser-fed-may-...               NASDAQ   \n",
       "11  http://blogs.reuters.com/hugo-dixon/2014/03/10...  Reuters UK \\(blog\\)   \n",
       "20  http://www.businessweek.com/news/2014-03-10/no...         Businessweek   \n",
       "23  http://www.fxstreet.com/analysis/strategic-cur...         FXstreet.com   \n",
       "\n",
       "   CATEGORY                          STORY              HOSTNAME  \\\n",
       "4         b  ddUyU0VZz0BRneMioxUPQVP6sIxvM     www.moneynews.com   \n",
       "5         b  ddUyU0VZz0BRneMioxUPQVP6sIxvM        www.nasdaq.com   \n",
       "11        b  dPhGU51DcrolUIMxbRm0InaHGA2XM     blogs.reuters.com   \n",
       "20        b  dPhGU51DcrolUIMxbRm0InaHGA2XM  www.businessweek.com   \n",
       "23        b  dPhGU51DcrolUIMxbRm0InaHGA2XM      www.fxstreet.com   \n",
       "\n",
       "        TIMESTAMP  \n",
       "4   1394470372027  \n",
       "5   1394470372212  \n",
       "11  1394470501587  \n",
       "20  1394470503366  \n",
       "23  1394470503887  "
      ]
     },
     "execution_count": 19,
     "metadata": {},
     "output_type": "execute_result"
    }
   ],
   "source": [
    "test_set.head()"
   ]
  },
  {
   "cell_type": "code",
   "execution_count": 20,
   "metadata": {},
   "outputs": [],
   "source": [
    "from sklearn.model_selection import train_test_split \n",
    "train_set, test_set = train_test_split(df, test_size=0.2, random_state=42) \n"
   ]
  },
  {
   "cell_type": "code",
   "execution_count": 21,
   "metadata": {},
   "outputs": [
    {
     "data": {
      "text/html": [
       "<div>\n",
       "<style scoped>\n",
       "    .dataframe tbody tr th:only-of-type {\n",
       "        vertical-align: middle;\n",
       "    }\n",
       "\n",
       "    .dataframe tbody tr th {\n",
       "        vertical-align: top;\n",
       "    }\n",
       "\n",
       "    .dataframe thead th {\n",
       "        text-align: right;\n",
       "    }\n",
       "</style>\n",
       "<table border=\"1\" class=\"dataframe\">\n",
       "  <thead>\n",
       "    <tr style=\"text-align: right;\">\n",
       "      <th></th>\n",
       "      <th>ID</th>\n",
       "      <th>TITLE</th>\n",
       "      <th>URL</th>\n",
       "      <th>PUBLISHER</th>\n",
       "      <th>CATEGORY</th>\n",
       "      <th>STORY</th>\n",
       "      <th>HOSTNAME</th>\n",
       "      <th>TIMESTAMP</th>\n",
       "    </tr>\n",
       "  </thead>\n",
       "  <tbody>\n",
       "    <tr>\n",
       "      <th>280241</th>\n",
       "      <td>280701</td>\n",
       "      <td>Only 2 people allowed in the delivery room: Pr...</td>\n",
       "      <td>http://indiatoday.intoday.in/story/only-2-peop...</td>\n",
       "      <td>India Today</td>\n",
       "      <td>e</td>\n",
       "      <td>dQEXtwpswiNW-4MJkBLcTFNZCQ42M</td>\n",
       "      <td>indiatoday.intoday.in</td>\n",
       "      <td>1402685897020</td>\n",
       "    </tr>\n",
       "    <tr>\n",
       "      <th>96315</th>\n",
       "      <td>96509</td>\n",
       "      <td>A wealth of info, a welter of questions</td>\n",
       "      <td>http://www.kspr.com/news/nationworld/A-wealth-...</td>\n",
       "      <td>KSPR</td>\n",
       "      <td>b</td>\n",
       "      <td>dEvmvYzvzgsQELMCi7irY9O3H-7MM</td>\n",
       "      <td>www.kspr.com</td>\n",
       "      <td>1397228331504</td>\n",
       "    </tr>\n",
       "    <tr>\n",
       "      <th>280410</th>\n",
       "      <td>280870</td>\n",
       "      <td>Robin Thicke Naming Album After Paula Patton…</td>\n",
       "      <td>http://hollywoodlife.com/2014/06/12/robin-thic...</td>\n",
       "      <td>Hollywood Life</td>\n",
       "      <td>e</td>\n",
       "      <td>dflCph2zJvu4FcMqqxixfobGH4qjM</td>\n",
       "      <td>hollywoodlife.com</td>\n",
       "      <td>1402687067074</td>\n",
       "    </tr>\n",
       "    <tr>\n",
       "      <th>284975</th>\n",
       "      <td>285435</td>\n",
       "      <td>Actress And Civil Rights Activist Ruby Dee Die...</td>\n",
       "      <td>http://wegotthiscovered.com/movies/actress-civ...</td>\n",
       "      <td>We Got This Covered</td>\n",
       "      <td>e</td>\n",
       "      <td>duy-eYWM3GLFeSMlLjm7WEMy_7YJM</td>\n",
       "      <td>wegotthiscovered.com</td>\n",
       "      <td>1402756865421</td>\n",
       "    </tr>\n",
       "    <tr>\n",
       "      <th>379072</th>\n",
       "      <td>379532</td>\n",
       "      <td>Feds to review Ga. Medicaid backlog</td>\n",
       "      <td>http://beta.mirror.augusta.com/news/government...</td>\n",
       "      <td>McDuffie Mirror</td>\n",
       "      <td>m</td>\n",
       "      <td>d_fPPa35mZtsqpM0o8GY7u6XaAydM</td>\n",
       "      <td>beta.mirror.augusta.com</td>\n",
       "      <td>1405443795115</td>\n",
       "    </tr>\n",
       "  </tbody>\n",
       "</table>\n",
       "</div>"
      ],
      "text/plain": [
       "            ID                                              TITLE  \\\n",
       "280241  280701  Only 2 people allowed in the delivery room: Pr...   \n",
       "96315    96509            A wealth of info, a welter of questions   \n",
       "280410  280870      Robin Thicke Naming Album After Paula Patton…   \n",
       "284975  285435  Actress And Civil Rights Activist Ruby Dee Die...   \n",
       "379072  379532                Feds to review Ga. Medicaid backlog   \n",
       "\n",
       "                                                      URL  \\\n",
       "280241  http://indiatoday.intoday.in/story/only-2-peop...   \n",
       "96315   http://www.kspr.com/news/nationworld/A-wealth-...   \n",
       "280410  http://hollywoodlife.com/2014/06/12/robin-thic...   \n",
       "284975  http://wegotthiscovered.com/movies/actress-civ...   \n",
       "379072  http://beta.mirror.augusta.com/news/government...   \n",
       "\n",
       "                  PUBLISHER CATEGORY                          STORY  \\\n",
       "280241          India Today        e  dQEXtwpswiNW-4MJkBLcTFNZCQ42M   \n",
       "96315                  KSPR        b  dEvmvYzvzgsQELMCi7irY9O3H-7MM   \n",
       "280410       Hollywood Life        e  dflCph2zJvu4FcMqqxixfobGH4qjM   \n",
       "284975  We Got This Covered        e  duy-eYWM3GLFeSMlLjm7WEMy_7YJM   \n",
       "379072      McDuffie Mirror        m  d_fPPa35mZtsqpM0o8GY7u6XaAydM   \n",
       "\n",
       "                       HOSTNAME      TIMESTAMP  \n",
       "280241    indiatoday.intoday.in  1402685897020  \n",
       "96315              www.kspr.com  1397228331504  \n",
       "280410        hollywoodlife.com  1402687067074  \n",
       "284975     wegotthiscovered.com  1402756865421  \n",
       "379072  beta.mirror.augusta.com  1405443795115  "
      ]
     },
     "execution_count": 21,
     "metadata": {},
     "output_type": "execute_result"
    }
   ],
   "source": [
    "test_set.head()"
   ]
  },
  {
   "cell_type": "code",
   "execution_count": 22,
   "metadata": {},
   "outputs": [
    {
     "data": {
      "text/plain": [
       "<matplotlib.axes._subplots.AxesSubplot at 0x1a2d641128>"
      ]
     },
     "execution_count": 22,
     "metadata": {},
     "output_type": "execute_result"
    },
    {
     "data": {
      "image/png": "[encoded data removed]",
      "text/plain": [
       "<Figure size 432x288 with 1 Axes>"
      ]
     },
     "metadata": {
      "needs_background": "light"
     },
     "output_type": "display_data"
    }
   ],
   "source": [
    "df[\"TIMESTAMP\"].hist()"
   ]
  },
  {
   "cell_type": "code",
   "execution_count": 23,
   "metadata": {},
   "outputs": [],
   "source": [
    "df[\"TIMESTAMP\"] = pd.cut(df[\"TIMESTAMP\"], \n",
    "    bins=[0., 1.5, 3.0, 4.5, 6., np.inf], \n",
    "    labels=[1, 2, 3, 4, 5]) "
   ]
  },
  {
   "cell_type": "code",
   "execution_count": 24,
   "metadata": {},
   "outputs": [
    {
     "data": {
      "text/plain": [
       "5    422419\n",
       "4         0\n",
       "3         0\n",
       "2         0\n",
       "1         0\n",
       "Name: TIMESTAMP, dtype: int64"
      ]
     },
     "execution_count": 24,
     "metadata": {},
     "output_type": "execute_result"
    }
   ],
   "source": [
    "df[\"TIMESTAMP\"].value_counts()"
   ]
  },
  {
   "cell_type": "code",
   "execution_count": 25,
   "metadata": {
    "scrolled": true
   },
   "outputs": [
    {
     "data": {
      "text/plain": [
       "<matplotlib.axes._subplots.AxesSubplot at 0x1a2c242128>"
      ]
     },
     "execution_count": 25,
     "metadata": {},
     "output_type": "execute_result"
    },
    {
     "data": {
      "image/png": "[encoded data removed]",
      "text/plain": [
       "<Figure size 432x288 with 1 Axes>"
      ]
     },
     "metadata": {
      "needs_background": "light"
     },
     "output_type": "display_data"
    }
   ],
   "source": [
    "df[\"TIMESTAMP\"].hist()"
   ]
  },
  {
   "cell_type": "code",
   "execution_count": 26,
   "metadata": {},
   "outputs": [
    {
     "data": {
      "text/plain": [
       "(422419, 8)"
      ]
     },
     "execution_count": 26,
     "metadata": {},
     "output_type": "execute_result"
    }
   ],
   "source": [
    "df.shape"
   ]
  },
  {
   "cell_type": "code",
   "execution_count": 27,
   "metadata": {},
   "outputs": [
    {
     "data": {
      "text/plain": [
       "ID           0\n",
       "TITLE        0\n",
       "URL          0\n",
       "PUBLISHER    2\n",
       "CATEGORY     0\n",
       "STORY        0\n",
       "HOSTNAME     0\n",
       "TIMESTAMP    0\n",
       "dtype: int64"
      ]
     },
     "execution_count": 27,
     "metadata": {},
     "output_type": "execute_result"
    }
   ],
   "source": [
    "df.isnull().sum()"
   ]
  },
  {
   "cell_type": "code",
   "execution_count": 28,
   "metadata": {},
   "outputs": [],
   "source": [
    "df.dropna(subset=['PUBLISHER'], inplace = True)"
   ]
  },
  {
   "cell_type": "code",
   "execution_count": 29,
   "metadata": {},
   "outputs": [
    {
     "data": {
      "text/plain": [
       "(422417, 8)"
      ]
     },
     "execution_count": 29,
     "metadata": {},
     "output_type": "execute_result"
    }
   ],
   "source": [
    "#dropd the 2 articles with null values\n",
    "df.shape"
   ]
  },
  {
   "cell_type": "code",
   "execution_count": 30,
   "metadata": {},
   "outputs": [
    {
     "data": {
      "text/plain": [
       "ID           0\n",
       "TITLE        0\n",
       "URL          0\n",
       "PUBLISHER    0\n",
       "CATEGORY     0\n",
       "STORY        0\n",
       "HOSTNAME     0\n",
       "TIMESTAMP    0\n",
       "dtype: int64"
      ]
     },
     "execution_count": 30,
     "metadata": {},
     "output_type": "execute_result"
    }
   ],
   "source": [
    "#check to make sure null values taken out\n",
    "df.isnull().sum()"
   ]
  },
  {
   "cell_type": "code",
   "execution_count": 31,
   "metadata": {},
   "outputs": [
    {
     "data": {
      "text/html": [
       "<div>\n",
       "<style scoped>\n",
       "    .dataframe tbody tr th:only-of-type {\n",
       "        vertical-align: middle;\n",
       "    }\n",
       "\n",
       "    .dataframe tbody tr th {\n",
       "        vertical-align: top;\n",
       "    }\n",
       "\n",
       "    .dataframe thead th {\n",
       "        text-align: right;\n",
       "    }\n",
       "</style>\n",
       "<table border=\"1\" class=\"dataframe\">\n",
       "  <thead>\n",
       "    <tr style=\"text-align: right;\">\n",
       "      <th></th>\n",
       "      <th>ID</th>\n",
       "      <th>TITLE</th>\n",
       "      <th>URL</th>\n",
       "      <th>PUBLISHER</th>\n",
       "      <th>CATEGORY</th>\n",
       "      <th>STORY</th>\n",
       "      <th>HOSTNAME</th>\n",
       "      <th>TIMESTAMP</th>\n",
       "    </tr>\n",
       "  </thead>\n",
       "  <tbody>\n",
       "    <tr>\n",
       "      <th>0</th>\n",
       "      <td>1</td>\n",
       "      <td>Fed official says weak data caused by weather,...</td>\n",
       "      <td>http://www.latimes.com/business/money/la-fi-mo...</td>\n",
       "      <td>Los Angeles Times</td>\n",
       "      <td>b</td>\n",
       "      <td>ddUyU0VZz0BRneMioxUPQVP6sIxvM</td>\n",
       "      <td>www.latimes.com</td>\n",
       "      <td>5</td>\n",
       "    </tr>\n",
       "    <tr>\n",
       "      <th>1</th>\n",
       "      <td>2</td>\n",
       "      <td>Fed's Charles Plosser sees high bar for change...</td>\n",
       "      <td>http://www.livemint.com/Politics/H2EvwJSK2VE6O...</td>\n",
       "      <td>Livemint</td>\n",
       "      <td>b</td>\n",
       "      <td>ddUyU0VZz0BRneMioxUPQVP6sIxvM</td>\n",
       "      <td>www.livemint.com</td>\n",
       "      <td>5</td>\n",
       "    </tr>\n",
       "    <tr>\n",
       "      <th>2</th>\n",
       "      <td>3</td>\n",
       "      <td>US open: Stocks fall after Fed official hints ...</td>\n",
       "      <td>http://www.ifamagazine.com/news/us-open-stocks...</td>\n",
       "      <td>IFA Magazine</td>\n",
       "      <td>b</td>\n",
       "      <td>ddUyU0VZz0BRneMioxUPQVP6sIxvM</td>\n",
       "      <td>www.ifamagazine.com</td>\n",
       "      <td>5</td>\n",
       "    </tr>\n",
       "    <tr>\n",
       "      <th>3</th>\n",
       "      <td>4</td>\n",
       "      <td>Fed risks falling 'behind the curve', Charles ...</td>\n",
       "      <td>http://www.ifamagazine.com/news/fed-risks-fall...</td>\n",
       "      <td>IFA Magazine</td>\n",
       "      <td>b</td>\n",
       "      <td>ddUyU0VZz0BRneMioxUPQVP6sIxvM</td>\n",
       "      <td>www.ifamagazine.com</td>\n",
       "      <td>5</td>\n",
       "    </tr>\n",
       "    <tr>\n",
       "      <th>4</th>\n",
       "      <td>5</td>\n",
       "      <td>Fed's Plosser: Nasty Weather Has Curbed Job Gr...</td>\n",
       "      <td>http://www.moneynews.com/Economy/federal-reser...</td>\n",
       "      <td>Moneynews</td>\n",
       "      <td>b</td>\n",
       "      <td>ddUyU0VZz0BRneMioxUPQVP6sIxvM</td>\n",
       "      <td>www.moneynews.com</td>\n",
       "      <td>5</td>\n",
       "    </tr>\n",
       "  </tbody>\n",
       "</table>\n",
       "</div>"
      ],
      "text/plain": [
       "   ID                                              TITLE  \\\n",
       "0   1  Fed official says weak data caused by weather,...   \n",
       "1   2  Fed's Charles Plosser sees high bar for change...   \n",
       "2   3  US open: Stocks fall after Fed official hints ...   \n",
       "3   4  Fed risks falling 'behind the curve', Charles ...   \n",
       "4   5  Fed's Plosser: Nasty Weather Has Curbed Job Gr...   \n",
       "\n",
       "                                                 URL          PUBLISHER  \\\n",
       "0  http://www.latimes.com/business/money/la-fi-mo...  Los Angeles Times   \n",
       "1  http://www.livemint.com/Politics/H2EvwJSK2VE6O...           Livemint   \n",
       "2  http://www.ifamagazine.com/news/us-open-stocks...       IFA Magazine   \n",
       "3  http://www.ifamagazine.com/news/fed-risks-fall...       IFA Magazine   \n",
       "4  http://www.moneynews.com/Economy/federal-reser...          Moneynews   \n",
       "\n",
       "  CATEGORY                          STORY             HOSTNAME TIMESTAMP  \n",
       "0        b  ddUyU0VZz0BRneMioxUPQVP6sIxvM      www.latimes.com         5  \n",
       "1        b  ddUyU0VZz0BRneMioxUPQVP6sIxvM     www.livemint.com         5  \n",
       "2        b  ddUyU0VZz0BRneMioxUPQVP6sIxvM  www.ifamagazine.com         5  \n",
       "3        b  ddUyU0VZz0BRneMioxUPQVP6sIxvM  www.ifamagazine.com         5  \n",
       "4        b  ddUyU0VZz0BRneMioxUPQVP6sIxvM    www.moneynews.com         5  "
      ]
     },
     "execution_count": 31,
     "metadata": {},
     "output_type": "execute_result"
    }
   ],
   "source": [
    "df.head()"
   ]
  },
  {
   "cell_type": "code",
   "execution_count": 32,
   "metadata": {},
   "outputs": [],
   "source": [
    "import numpy as np\n",
    "import pandas as pd\n",
    "from matplotlib import pyplot as plt\n",
    "from sklearn.datasets.samples_generator import make_blobs\n",
    "from sklearn.cluster import KMeans"
   ]
  },
  {
   "cell_type": "code",
   "execution_count": 33,
   "metadata": {},
   "outputs": [
    {
     "ename": "TypeError",
     "evalue": "'DataFrame' object is not callable",
     "output_type": "error",
     "traceback": [
      "\u001b[0;31m---------------------------------------------------------------------------\u001b[0m",
      "\u001b[0;31mTypeError\u001b[0m                                 Traceback (most recent call last)",
      "\u001b[0;32m<ipython-input-33-e514ca963505>\u001b[0m in \u001b[0;36m<module>\u001b[0;34m\u001b[0m\n\u001b[0;32m----> 1\u001b[0;31m \u001b[0mX\u001b[0m\u001b[0;34m,\u001b[0m \u001b[0my\u001b[0m \u001b[0;34m=\u001b[0m \u001b[0mdf\u001b[0m\u001b[0;34m(\u001b[0m\u001b[0mn_samples\u001b[0m\u001b[0;34m=\u001b[0m\u001b[0;36m300\u001b[0m\u001b[0;34m,\u001b[0m \u001b[0mcenters\u001b[0m\u001b[0;34m=\u001b[0m\u001b[0;36m4\u001b[0m\u001b[0;34m,\u001b[0m \u001b[0mcluster_std\u001b[0m\u001b[0;34m=\u001b[0m\u001b[0;36m0.60\u001b[0m\u001b[0;34m,\u001b[0m \u001b[0mrandom_state\u001b[0m\u001b[0;34m=\u001b[0m\u001b[0;36m0\u001b[0m\u001b[0;34m)\u001b[0m\u001b[0;34m\u001b[0m\u001b[0;34m\u001b[0m\u001b[0m\n\u001b[0m\u001b[1;32m      2\u001b[0m \u001b[0mplt\u001b[0m\u001b[0;34m.\u001b[0m\u001b[0mscatter\u001b[0m\u001b[0;34m(\u001b[0m\u001b[0mX\u001b[0m\u001b[0;34m[\u001b[0m\u001b[0;34m:\u001b[0m\u001b[0;34m,\u001b[0m\u001b[0;36m0\u001b[0m\u001b[0;34m]\u001b[0m\u001b[0;34m,\u001b[0m \u001b[0mX\u001b[0m\u001b[0;34m[\u001b[0m\u001b[0;34m:\u001b[0m\u001b[0;34m,\u001b[0m\u001b[0;36m1\u001b[0m\u001b[0;34m]\u001b[0m\u001b[0;34m)\u001b[0m\u001b[0;34m\u001b[0m\u001b[0;34m\u001b[0m\u001b[0m\n",
      "\u001b[0;31mTypeError\u001b[0m: 'DataFrame' object is not callable"
     ]
    }
   ],
   "source": [
    "X, y = df(n_samples=300, centers=4, cluster_std=0.60, random_state=0)\n",
    "plt.scatter(X[:,0], X[:,1])"
   ]
  },
  {
   "cell_type": "code",
   "execution_count": null,
   "metadata": {},
   "outputs": [],
   "source": []
  }
 ],
 "metadata": {
  "kernelspec": {
   "display_name": "Python 3",
   "language": "python",
   "name": "python3"
  },
  "language_info": {
   "codemirror_mode": {
    "name": "ipython",
    "version": 3
   },
   "file_extension": ".py",
   "mimetype": "text/x-python",
   "name": "python",
   "nbconvert_exporter": "python",
   "pygments_lexer": "ipython3",
   "version": "3.7.3"
  }
 },
 "nbformat": 4,
 "nbformat_minor": 2
}
